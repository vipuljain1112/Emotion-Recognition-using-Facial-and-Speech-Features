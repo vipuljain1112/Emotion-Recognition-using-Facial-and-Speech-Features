{
 "cells": [
  {
   "cell_type": "code",
   "execution_count": 1,
   "id": "c7a4cb6e",
   "metadata": {},
   "outputs": [],
   "source": [
    "import os\n",
    "import pandas as pd\n",
    "import numpy as np\n",
    "import matplotlib.pyplot as plt\n",
    "import librosa\n",
    "import tensorflow as tf\n",
    "import keras\n",
    "from keras.callbacks import ReduceLROnPlateau\n",
    "from keras.models import Sequential\n",
    "from keras.layers import Dense, Conv1D, MaxPooling1D, Flatten, Dropout, BatchNormalization\n",
    "from keras.callbacks import EarlyStopping"
   ]
  },
  {
   "cell_type": "code",
   "execution_count": 2,
   "id": "1b9665df",
   "metadata": {},
   "outputs": [
    {
     "name": "stdout",
     "output_type": "stream",
     "text": [
      "['Actor_01', 'Actor_02', 'Actor_03', 'Actor_04', 'Actor_05', 'Actor_06', 'Actor_07', 'Actor_08', 'Actor_09', 'Actor_10', 'Actor_11', 'Actor_12', 'Actor_13', 'Actor_14', 'Actor_15', 'Actor_16', 'Actor_17', 'Actor_18', 'Actor_19', 'Actor_20', 'Actor_21', 'Actor_22', 'Actor_23', 'Actor_24']\n"
     ]
    },
    {
     "data": {
      "text/plain": [
       "(1152, 2)"
      ]
     },
     "execution_count": 2,
     "metadata": {},
     "output_type": "execute_result"
    }
   ],
   "source": [
    "Ravdess=\"archive//\"\n",
    "ravdess_directory_list=os.listdir(\"archive//\")\n",
    "print(ravdess_directory_list)\n",
    "file_emotion=[]\n",
    "file_path=[]\n",
    "for dir in ravdess_directory_list:\n",
    "    actor=os.listdir(Ravdess+dir)    #archive//Actor_01\n",
    "    for file in actor:\n",
    "        part = file.split('.')[0]\n",
    "        part = part.split('-')\n",
    "        if int(part[2])==1 or int(part[2])==7:\n",
    "            continue\n",
    "        else:\n",
    "            file_emotion.append(int(part[2]))\n",
    "            file_path.append(Ravdess + dir + '/' + file)\n",
    "# dataframe for emotion of files\n",
    "emotion_df = pd.DataFrame(file_emotion, columns=['Emotions'])\n",
    "\n",
    "# dataframe for path of files.\n",
    "path_df = pd.DataFrame(file_path, columns=['Path'])\n",
    "Ravdess_df = pd.concat([emotion_df, path_df], axis=1)\n",
    "\n",
    "# changing integers to actual emotions.\n",
    "Ravdess_df.Emotions.replace({ 2:'neutral', 3:'happy', 4:'sad', 5:'angry', 6:'fear', 8:'surprise'}, inplace=True)\n",
    "Ravdess_df.shape"
   ]
  },
  {
   "cell_type": "code",
   "execution_count": 3,
   "id": "bc1fd175",
   "metadata": {},
   "outputs": [
    {
     "name": "stderr",
     "output_type": "stream",
     "text": [
      "C:\\ProgramData\\Anaconda3\\lib\\site-packages\\seaborn\\_decorators.py:36: FutureWarning: Pass the following variable as a keyword arg: x. From version 0.12, the only valid positional argument will be `data`, and passing other arguments without an explicit keyword will result in an error or misinterpretation.\n",
      "  warnings.warn(\n"
     ]
    },
    {
     "data": {
      "image/png": "[encoded data removed]",
      "text/plain": [
       "<Figure size 432x288 with 1 Axes>"
      ]
     },
     "metadata": {
      "needs_background": "light"
     },
     "output_type": "display_data"
    }
   ],
   "source": [
    "import seaborn as sns\n",
    "import matplotlib.pyplot as plt\n",
    "plt.title('Count of Emotions', size=16)\n",
    "sns.countplot(Ravdess_df.Emotions)\n",
    "plt.ylabel('Count', size=12)\n",
    "plt.xlabel('Emotions', size=12)\n",
    "sns.despine(top=True, right=True, left=False, bottom=False)\n",
    "plt.show()"
   ]
  },
  {
   "cell_type": "code",
   "execution_count": 4,
   "id": "4b254373",
   "metadata": {},
   "outputs": [],
   "source": [
    "import librosa\n",
    "\n",
    "def noise(data):\n",
    "    noise_amp = 0.035*np.random.uniform()*np.amax(data)\n",
    "    data = data + noise_amp*np.random.normal(size=data.shape[0])\n",
    "    return data\n",
    "\n",
    "def stretch(data, rate=0.8):\n",
    "    return librosa.effects.time_stretch(data, rate)\n",
    "\n",
    "def shift(data):\n",
    "    shift_range = int(np.random.uniform(low=-5, high = 5)*1000)\n",
    "    return np.roll(data, shift_range)\n",
    "\n",
    "def pitch(data, sampling_rate, pitch_factor=0.7):\n",
    "    return librosa.effects.pitch_shift(data, sampling_rate, pitch_factor)\n"
   ]
  },
  {
   "cell_type": "code",
   "execution_count": 5,
   "id": "c43a8a24",
   "metadata": {},
   "outputs": [],
   "source": [
    "def extract_features(data):\n",
    "    result = np.array([])\n",
    "    sample_rate=22050\n",
    "    # ZCR\n",
    "    zcr = np.mean(librosa.feature.zero_crossing_rate(y=data).T, axis=0)\n",
    "    result=np.hstack((result, zcr)) # stacking horizontally\n",
    "\n",
    "    # Chroma_stft\n",
    "    stft = np.abs(librosa.stft(data))\n",
    "    chroma_stft = np.mean(librosa.feature.chroma_stft(S=stft, sr=sample_rate).T, axis=0)\n",
    "    result = np.hstack((result, chroma_stft)) # stacking horizontally\n",
    "\n",
    "    # MFCC\n",
    "    mfcc = np.mean(librosa.feature.mfcc(y=data, sr=sample_rate).T, axis=0)\n",
    "    result = np.hstack((result, mfcc)) # stacking horizontally\n",
    "\n",
    "    # Root Mean Square Value\n",
    "    rms = np.mean(librosa.feature.rms(y=data).T, axis=0)\n",
    "    result = np.hstack((result, rms)) # stacking horizontally\n",
    "\n",
    "    # MelSpectogram\n",
    "    mel = np.mean(librosa.feature.melspectrogram(y=data, sr=sample_rate).T, axis=0)\n",
    "    result = np.hstack((result, mel)) # stacking horizontally\n",
    "\n",
    "    return result\n",
    "\n",
    "def get_features(path):\n",
    "    # duration and offset are used to take care of the no audio in start and the ending of each audio files as seen above.\n",
    "    data, sample_rate = librosa.load(path, duration=5, offset=0.6)\n",
    "    data, sample_rate = librosa.load(path, offset=0.6)\n",
    "    \n",
    "    # without augmentation\n",
    "    res1 = extract_features(data)\n",
    "    result = np.array(res1)\n",
    "    \n",
    "    # data with noise\n",
    "    noise_data = noise(data)\n",
    "    res2 = extract_features(noise_data)\n",
    "    result = np.vstack((result, res2)) # stacking vertically\n",
    "    \n",
    "#     data with stretching and pitching\n",
    "    new_data = stretch(data)\n",
    "    data_stretch_pitch = pitch(new_data, sample_rate)\n",
    "    res3 = extract_features(data_stretch_pitch)\n",
    "    result = np.vstack((result, res3)) # stacking vertically\n",
    "    \n",
    "    return result"
   ]
  },
  {
   "cell_type": "code",
   "execution_count": 7,
   "id": "420c20b9",
   "metadata": {},
   "outputs": [],
   "source": [
    "X, Y = [], []\n",
    "for path, emotion in zip(Ravdess_df.Path, Ravdess_df.Emotions):\n",
    "    feature = get_features(path)\n",
    "    for ele in feature:\n",
    "        X.append(ele)\n",
    "        # appending emotion 2 times as we have made 1 augmentation techniques on each audio file.\n",
    "        Y.append(emotion)"
   ]
  },
  {
   "cell_type": "code",
   "execution_count": 8,
   "id": "d0310b29",
   "metadata": {},
   "outputs": [],
   "source": [
    "Features = pd.DataFrame(X)\n",
    "Features['labels'] = Y\n",
    "Features.to_csv('features.csv', index=False)"
   ]
  },
  {
   "cell_type": "code",
   "execution_count": 9,
   "id": "b4d31dd8",
   "metadata": {},
   "outputs": [],
   "source": [
    "Features = pd.read_csv('features.csv')"
   ]
  },
  {
   "cell_type": "code",
   "execution_count": 11,
   "id": "ef232438",
   "metadata": {},
   "outputs": [],
   "source": [
    "from sklearn.preprocessing import StandardScaler, OneHotEncoder\n",
    "from sklearn.model_selection import train_test_split\n",
    "X = Features.iloc[: ,:-1].values\n",
    "Y = Features['labels'].values\n",
    "encoder = OneHotEncoder()\n",
    "Y = encoder.fit_transform(np.array(Y).reshape(-1,1)).toarray()"
   ]
  },
  {
   "cell_type": "code",
   "execution_count": 12,
   "id": "5cb29508",
   "metadata": {},
   "outputs": [
    {
     "data": {
      "text/plain": [
       "((2937, 162), (2937, 6), (519, 162), (519, 6))"
      ]
     },
     "execution_count": 12,
     "metadata": {},
     "output_type": "execute_result"
    }
   ],
   "source": [
    "x_train, x_test, y_train, y_test = train_test_split(X, Y,test_size=0.15, shuffle=True,random_state=13)\n",
    "x_train.shape, y_train.shape, x_test.shape, y_test.shape"
   ]
  },
  {
   "cell_type": "code",
   "execution_count": 13,
   "id": "d383396f",
   "metadata": {},
   "outputs": [
    {
     "data": {
      "text/plain": [
       "((2496, 162), (2496, 6), (441, 162), (441, 6))"
      ]
     },
     "execution_count": 13,
     "metadata": {},
     "output_type": "execute_result"
    }
   ],
   "source": [
    "x_train, x_val, y_train, y_val = train_test_split(x_train, y_train, test_size=0.15, shuffle=True,random_state=13)\n",
    "x_train.shape, y_train.shape, x_val.shape, y_val.shape"
   ]
  },
  {
   "cell_type": "code",
   "execution_count": 14,
   "id": "fe6208bb",
   "metadata": {},
   "outputs": [
    {
     "data": {
      "text/plain": [
       "((2496, 162), (2496, 6), (519, 162), (519, 6), (441, 162), (441, 6))"
      ]
     },
     "execution_count": 14,
     "metadata": {},
     "output_type": "execute_result"
    }
   ],
   "source": [
    "scaler = StandardScaler()\n",
    "x_train = scaler.fit_transform(x_train)\n",
    "x_test = scaler.transform(x_test)\n",
    "x_val = scaler.transform(x_val)\n",
    "x_train.shape, y_train.shape, x_test.shape, y_test.shape, x_val.shape, y_val.shape"
   ]
  },
  {
   "cell_type": "code",
   "execution_count": 23,
   "id": "8af1736f",
   "metadata": {},
   "outputs": [],
   "source": [
    "import pickle\n",
    "with open(\"SerScaler\", \"wb\") as f: \n",
    "    pickle.dump(scaler, f)"
   ]
  },
  {
   "cell_type": "code",
   "execution_count": 15,
   "id": "2e8d8899",
   "metadata": {},
   "outputs": [
    {
     "data": {
      "text/plain": [
       "((2496, 162, 1), (519, 162, 1), (441, 162, 1))"
      ]
     },
     "execution_count": 15,
     "metadata": {},
     "output_type": "execute_result"
    }
   ],
   "source": [
    "x_train = np.expand_dims(x_train, axis=2)\n",
    "x_test = np.expand_dims(x_test, axis=2)\n",
    "x_val = np.expand_dims(x_val, axis=2)\n",
    "x_train.shape, x_test.shape, x_val.shape"
   ]
  },
  {
   "cell_type": "code",
   "execution_count": 16,
   "id": "cddfdc49",
   "metadata": {},
   "outputs": [],
   "source": [
    "model=Sequential()\n",
    "\n",
    "model.add(Conv1D(256, kernel_size=5, strides=2, padding='same', activation='relu', input_shape=(x_train.shape[1], 1)))\n",
    "model.add(Conv1D(256, kernel_size=5, strides=2, padding='same', activation='relu'))\n",
    "model.add(Conv1D(256, kernel_size=5, strides=2, padding='same', activation='relu'))\n",
    "model.add(Dropout(0.1))\n",
    "model.add(MaxPooling1D(pool_size=5, strides = 2, padding = 'same'))\n",
    "\n",
    "model.add(Conv1D(128, kernel_size=5, strides=2, padding='same', activation='relu'))\n",
    "model.add(Conv1D(128, kernel_size=5, strides=2, padding='same', activation='relu'))\n",
    "model.add(Conv1D(128, kernel_size=5, strides=2, padding='same', activation='relu'))\n",
    "model.add(Dropout(0.1))\n",
    "\n",
    "model.add(Conv1D(128, kernel_size=5, strides=1, padding='same', activation='relu'))\n",
    "model.add(Conv1D(128, kernel_size=5, strides=1, padding='same', activation='relu'))\n",
    "model.add(Conv1D(128, kernel_size=5, strides=1, padding='same', activation='relu'))\n",
    "\n",
    "model.add(Flatten())\n",
    "model.add(Dropout(0.2))\n",
    "model.add(Dense(units=6, activation='softmax'))\n",
    "\n",
    "model.compile(optimizer = 'adam' , loss = 'categorical_crossentropy' , metrics = ['accuracy'])"
   ]
  },
  {
   "cell_type": "code",
   "execution_count": 17,
   "id": "c64616b4",
   "metadata": {
    "scrolled": true
   },
   "outputs": [
    {
     "name": "stdout",
     "output_type": "stream",
     "text": [
      "Epoch 1/100\n",
      "167/167 [==============================] - 31s 19ms/step - loss: 1.7333 - accuracy: 0.2284 - val_loss: 1.5222 - val_accuracy: 0.3220\n",
      "Epoch 2/100\n",
      "167/167 [==============================] - 2s 11ms/step - loss: 1.5489 - accuracy: 0.3373 - val_loss: 1.4134 - val_accuracy: 0.4195\n",
      "Epoch 3/100\n",
      "167/167 [==============================] - 2s 12ms/step - loss: 1.3934 - accuracy: 0.4263 - val_loss: 1.3846 - val_accuracy: 0.4195\n",
      "Epoch 4/100\n",
      "167/167 [==============================] - 2s 12ms/step - loss: 1.2927 - accuracy: 0.4569 - val_loss: 1.2150 - val_accuracy: 0.5102\n",
      "Epoch 5/100\n",
      "167/167 [==============================] - 2s 12ms/step - loss: 1.1504 - accuracy: 0.5313 - val_loss: 1.2158 - val_accuracy: 0.4943\n",
      "Epoch 6/100\n",
      "167/167 [==============================] - 2s 12ms/step - loss: 1.0924 - accuracy: 0.5599 - val_loss: 1.0870 - val_accuracy: 0.5646\n",
      "Epoch 7/100\n",
      "167/167 [==============================] - 2s 12ms/step - loss: 0.9527 - accuracy: 0.6157 - val_loss: 1.0624 - val_accuracy: 0.5986\n",
      "Epoch 8/100\n",
      "167/167 [==============================] - 2s 12ms/step - loss: 0.8508 - accuracy: 0.6627 - val_loss: 1.0192 - val_accuracy: 0.6349\n",
      "Epoch 9/100\n",
      "167/167 [==============================] - 2s 12ms/step - loss: 0.7666 - accuracy: 0.7007 - val_loss: 0.9850 - val_accuracy: 0.6213\n",
      "Epoch 10/100\n",
      "167/167 [==============================] - 2s 13ms/step - loss: 0.7178 - accuracy: 0.7331 - val_loss: 1.0787 - val_accuracy: 0.6100\n",
      "Epoch 11/100\n",
      "167/167 [==============================] - 2s 13ms/step - loss: 0.6656 - accuracy: 0.7445 - val_loss: 1.0498 - val_accuracy: 0.6644\n",
      "Epoch 12/100\n",
      "167/167 [==============================] - 2s 13ms/step - loss: 0.5162 - accuracy: 0.8068 - val_loss: 1.0099 - val_accuracy: 0.6689\n",
      "Epoch 13/100\n",
      "167/167 [==============================] - 2s 13ms/step - loss: 0.5282 - accuracy: 0.7940 - val_loss: 1.0577 - val_accuracy: 0.6644\n",
      "\n",
      "Epoch 00013: ReduceLROnPlateau reducing learning rate to 0.000800000037997961.\n",
      "Epoch 14/100\n",
      "167/167 [==============================] - 2s 13ms/step - loss: 0.3817 - accuracy: 0.8641 - val_loss: 1.0863 - val_accuracy: 0.7075\n",
      "Epoch 15/100\n",
      "167/167 [==============================] - 2s 13ms/step - loss: 0.2887 - accuracy: 0.9018 - val_loss: 1.2259 - val_accuracy: 0.6893\n",
      "Epoch 16/100\n",
      "167/167 [==============================] - 2s 14ms/step - loss: 0.2964 - accuracy: 0.9026 - val_loss: 1.0993 - val_accuracy: 0.7234\n",
      "Epoch 17/100\n",
      "167/167 [==============================] - 2s 14ms/step - loss: 0.2551 - accuracy: 0.9157 - val_loss: 0.9090 - val_accuracy: 0.7755\n",
      "Epoch 18/100\n",
      "167/167 [==============================] - 2s 13ms/step - loss: 0.1765 - accuracy: 0.9426 - val_loss: 1.0254 - val_accuracy: 0.7483\n",
      "Epoch 19/100\n",
      "167/167 [==============================] - 5s 28ms/step - loss: 0.2100 - accuracy: 0.9310 - val_loss: 1.0339 - val_accuracy: 0.7528\n",
      "Epoch 20/100\n",
      "167/167 [==============================] - 3s 16ms/step - loss: 0.1748 - accuracy: 0.9492 - val_loss: 0.8753 - val_accuracy: 0.7868\n",
      "Epoch 21/100\n",
      "167/167 [==============================] - 3s 15ms/step - loss: 0.1195 - accuracy: 0.9663 - val_loss: 1.0209 - val_accuracy: 0.7710\n",
      "Epoch 22/100\n",
      "167/167 [==============================] - 3s 15ms/step - loss: 0.1189 - accuracy: 0.9703 - val_loss: 1.1462 - val_accuracy: 0.7551\n",
      "Epoch 23/100\n",
      "167/167 [==============================] - 6s 38ms/step - loss: 0.1235 - accuracy: 0.9623 - val_loss: 0.9527 - val_accuracy: 0.7800\n",
      "Epoch 24/100\n",
      "167/167 [==============================] - 5s 28ms/step - loss: 0.0663 - accuracy: 0.9804 - val_loss: 0.9906 - val_accuracy: 0.7891\n",
      "\n",
      "Epoch 00024: ReduceLROnPlateau reducing learning rate to 0.0006400000303983689.\n",
      "Epoch 25/100\n",
      "167/167 [==============================] - 3s 15ms/step - loss: 0.0861 - accuracy: 0.9691 - val_loss: 1.1242 - val_accuracy: 0.8073\n",
      "Epoch 26/100\n",
      "167/167 [==============================] - 2s 15ms/step - loss: 0.0567 - accuracy: 0.9856 - val_loss: 1.0010 - val_accuracy: 0.7982\n",
      "Epoch 27/100\n",
      "167/167 [==============================] - 3s 15ms/step - loss: 0.0606 - accuracy: 0.9854 - val_loss: 1.0605 - val_accuracy: 0.8118\n",
      "Epoch 28/100\n",
      "167/167 [==============================] - 3s 15ms/step - loss: 0.0522 - accuracy: 0.9866 - val_loss: 1.2321 - val_accuracy: 0.7619\n",
      "\n",
      "Epoch 00028: ReduceLROnPlateau reducing learning rate to 0.0005120000336319208.\n",
      "Epoch 29/100\n",
      "167/167 [==============================] - 2s 15ms/step - loss: 0.1303 - accuracy: 0.9721 - val_loss: 1.0305 - val_accuracy: 0.7982\n",
      "Epoch 30/100\n",
      "167/167 [==============================] - 2s 15ms/step - loss: 0.0292 - accuracy: 0.9885 - val_loss: 1.3350 - val_accuracy: 0.7846\n",
      "Epoch 31/100\n",
      "167/167 [==============================] - 2s 15ms/step - loss: 0.0340 - accuracy: 0.9906 - val_loss: 1.1014 - val_accuracy: 0.8118\n",
      "Epoch 32/100\n",
      "167/167 [==============================] - 3s 15ms/step - loss: 0.0321 - accuracy: 0.9903 - val_loss: 1.5546 - val_accuracy: 0.7551\n",
      "\n",
      "Epoch 00032: ReduceLROnPlateau reducing learning rate to 0.00040960004553198815.\n",
      "Epoch 33/100\n",
      "167/167 [==============================] - 2s 15ms/step - loss: 0.0568 - accuracy: 0.9873 - val_loss: 1.2430 - val_accuracy: 0.7846\n",
      "Epoch 34/100\n",
      "167/167 [==============================] - 2s 14ms/step - loss: 0.0082 - accuracy: 0.9978 - val_loss: 1.4186 - val_accuracy: 0.8095\n",
      "Epoch 35/100\n",
      "167/167 [==============================] - 2s 15ms/step - loss: 0.0169 - accuracy: 0.9943 - val_loss: 1.4731 - val_accuracy: 0.8005\n"
     ]
    }
   ],
   "source": [
    "rlrp = ReduceLROnPlateau(monitor='val_loss', factor=0.8, verbose=2, patience=4, min_lr=0.0000001)\n",
    "early_stopping_monitor = (EarlyStopping(patience=15))\n",
    "history=model.fit(x_train, y_train, batch_size=15, epochs=100, validation_data=(x_val, y_val),\n",
    "                  callbacks=[rlrp,early_stopping_monitor], verbose=1)"
   ]
  },
  {
   "cell_type": "code",
   "execution_count": 18,
   "id": "db019a83",
   "metadata": {},
   "outputs": [
    {
     "name": "stdout",
     "output_type": "stream",
     "text": [
      "17/17 [==============================] - 0s 11ms/step - loss: 1.6418 - accuracy: 0.8131\n",
      "Accuracy of our model on test data :  81.3102126121521 %\n"
     ]
    }
   ],
   "source": [
    "print(\"Accuracy of our model on test data : \" , model.evaluate(x_test,y_test)[1]*100 , \"%\")"
   ]
  },
  {
   "cell_type": "code",
   "execution_count": 19,
   "id": "a8b55864",
   "metadata": {},
   "outputs": [
    {
     "name": "stdout",
     "output_type": "stream",
     "text": [
      "0.8132870842497453\n"
     ]
    },
    {
     "data": {
      "image/png": "[encoded data removed]",
      "text/plain": [
       "<Figure size 576x432 with 2 Axes>"
      ]
     },
     "metadata": {
      "needs_background": "light"
     },
     "output_type": "display_data"
    }
   ],
   "source": [
    "from sklearn.metrics import confusion_matrix\n",
    "from sklearn.metrics import f1_score\n",
    "y_pred=model.predict(x_test)\n",
    "ytest=encoder.inverse_transform(y_test)\n",
    "ypred=encoder.inverse_transform(y_pred)\n",
    "conmat=confusion_matrix(ytest,ypred)\n",
    "con_mat=pd.DataFrame(conmat,columns=['angry', 'fear', 'happy', 'neutral', 'sad', 'surprise'],index=['angry', 'fear', 'happy', 'neutral', 'sad', 'surprise'])\n",
    "\n",
    "print(f1_score(ytest, ypred, average='macro'))\n",
    "import seaborn as sns\n",
    "fig, ax = plt.subplots(figsize=(8,6))\n",
    "sns.heatmap(con_mat, cmap=\"Blues\",annot=True,)\n",
    "plt.show()"
   ]
  },
  {
   "cell_type": "code",
   "execution_count": 22,
   "id": "88a33128",
   "metadata": {},
   "outputs": [],
   "source": [
    "model.save(\"fser.h5\")"
   ]
  }
 ],
 "metadata": {
  "kernelspec": {
   "display_name": "Python 3",
   "language": "python",
   "name": "python3"
  },
  "language_info": {
   "codemirror_mode": {
    "name": "ipython",
    "version": 3
   },
   "file_extension": ".py",
   "mimetype": "text/x-python",
   "name": "python",
   "nbconvert_exporter": "python",
   "pygments_lexer": "ipython3",
   "version": "3.8.8"
  }
 },
 "nbformat": 4,
 "nbformat_minor": 5
}
